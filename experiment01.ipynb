{
 "cells": [
  {
   "cell_type": "code",
   "execution_count": 2,
   "metadata": {},
   "outputs": [
    {
     "name": "stdout",
     "output_type": "stream",
     "text": [
      "Loading open source embedding model. This may take some time...\n",
      "Successfully loaded open source embedding model.\n"
     ]
    }
   ],
   "source": [
    "from embedchain import OpenSourceApp\n",
    "naval_chat_bot = OpenSourceApp()"
   ]
  },
  {
   "cell_type": "code",
   "execution_count": 12,
   "metadata": {},
   "outputs": [],
   "source": [
    "# infosys_machine_translation_path = \"https://aclanthology.org/2020.wmt-1.52.pdf\"\n",
    "# spiderman_path = \"https://www.eba.europa.eu/system/files/webform/1058957/spider-man-across-the-spider-verse-ppp1w.pdf\""
   ]
  },
  {
   "cell_type": "code",
   "execution_count": 22,
   "metadata": {},
   "outputs": [],
   "source": [
    "data4 = \"/Users/bala/Desktop/Projects/Experiments/EmbedChain/Repository/Data/Data4.pdf\""
   ]
  },
  {
   "cell_type": "code",
   "execution_count": 23,
   "metadata": {},
   "outputs": [
    {
     "name": "stdout",
     "output_type": "stream",
     "text": [
      "Successfully saved /Users/bala/Desktop/Projects/Experiments/EmbedChain/Repository/Data/Data4.pdf. New chunks count: 1\n"
     ]
    }
   ],
   "source": [
    "naval_chat_bot.add(\"pdf_file\", data4)"
   ]
  },
  {
   "cell_type": "code",
   "execution_count": 25,
   "metadata": {},
   "outputs": [
    {
     "data": {
      "text/plain": [
       "' The city mentioned in the context is Bangalore, which is a city located in India.'"
      ]
     },
     "execution_count": 25,
     "metadata": {},
     "output_type": "execute_result"
    }
   ],
   "source": [
    "naval_chat_bot.query(\"What is the City? You answer must be only from the input document\")"
   ]
  },
  {
   "cell_type": "markdown",
   "metadata": {},
   "source": []
  },
  {
   "cell_type": "code",
   "execution_count": null,
   "metadata": {},
   "outputs": [],
   "source": []
  }
 ],
 "metadata": {
  "kernelspec": {
   "display_name": "embed_chain",
   "language": "python",
   "name": "python3"
  },
  "language_info": {
   "codemirror_mode": {
    "name": "ipython",
    "version": 3
   },
   "file_extension": ".py",
   "mimetype": "text/x-python",
   "name": "python",
   "nbconvert_exporter": "python",
   "pygments_lexer": "ipython3",
   "version": "3.10.12"
  },
  "orig_nbformat": 4
 },
 "nbformat": 4,
 "nbformat_minor": 2
}
